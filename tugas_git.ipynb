{
 "cells": [
  {
   "cell_type": "code",
   "execution_count": 2,
   "metadata": {},
   "outputs": [
    {
     "name": "stdout",
     "output_type": "stream",
     "text": [
      "Data Gaji sebelum perubahan:\n",
      "\n",
      "    Nama  Usia   Gaji\n",
      "0   John    25  50000\n",
      "1   Jane    35  60000\n",
      "2    Bob    30  70000\n",
      "3  Alice    28  55000\n"
     ]
    }
   ],
   "source": [
    "import pandas as pd\n",
    "\n",
    "data = {'Nama': ['John', 'Jane', 'Bob', 'Alice'],\n",
    "        'Usia': [25, 35, 30, 28],\n",
    "        'Gaji': [50000, 60000, 70000, 55000]}\n",
    "\n",
    "df = pd.DataFrame(data)\n",
    "\n",
    "print(f\"Data Gaji sebelum perubahan:\\n\")\n",
    "print(df[['Nama','Usia', 'Gaji']])\n",
    "\n",
    "\n",
    "# Pertanyaan 1:\n",
    "\n",
    "# Gunakan loop for dan fungsi lambda untuk menghitung gaji setiap karyawan setelah diberikan peningkatan sebesar 5% dari gaji saat ini.\n",
    "df['Gaji_peningkatan_5%'] = df['Gaji'].apply(lambda x: x * 1.05)"
   ]
  },
  {
   "cell_type": "code",
   "execution_count": 3,
   "metadata": {},
   "outputs": [
    {
     "name": "stdout",
     "output_type": "stream",
     "text": [
      "Data Gaji setelah peningkatan 5% tiap karyawan:\n",
      "\n",
      "    Nama  Usia  Gaji_peningkatan_5%\n",
      "0   John    25              52500.0\n",
      "1   Jane    35              63000.0\n",
      "2    Bob    30              73500.0\n",
      "3  Alice    28              57750.0\n"
     ]
    }
   ],
   "source": [
    "# Pertanyaan 2:\n",
    "\n",
    "# Setelah perubahan dilakukan, tampilkan DataFrame yang sudah diperbarui dan berikan ringkasan perubahan yang telah terjadi.\n",
    "print(f\"Data Gaji setelah peningkatan 5% tiap karyawan:\\n\")\n",
    "print(df[['Nama','Usia', 'Gaji_peningkatan_5%']])"
   ]
  },
  {
   "cell_type": "code",
   "execution_count": 4,
   "metadata": {},
   "outputs": [],
   "source": [
    "# Pertanyaan 3:\n",
    "\n",
    "# Gunakan loop for lagi untuk mengevaluasi karyawan yang usianya di atas 30 tahun. Jika usia karyawan di atas 30, berikan peningkatan tambahan sebesar 2% dari gaji saat ini menggunakan fungsi lambda.\n",
    "df['Gaji_peningkatan_usia_30'] = df.apply(lambda row: row['Gaji'] * 1.05 if row['Usia'] <= 30 else row['Gaji'] * 1.05 * 1.02, axis=1)"
   ]
  },
  {
   "cell_type": "code",
   "execution_count": 5,
   "metadata": {},
   "outputs": [
    {
     "name": "stdout",
     "output_type": "stream",
     "text": [
      "\n",
      "Data evaluasi bonus karyawan yang usia di atas 30 tahun. :\n",
      "\n",
      "    Nama  Usia   Gaji  Gaji_peningkatan_5%  Gaji_peningkatan_usia_30\n",
      "0   John    25  50000              52500.0                   52500.0\n",
      "1   Jane    35  60000              63000.0                   64260.0\n",
      "2    Bob    30  70000              73500.0                   73500.0\n",
      "3  Alice    28  55000              57750.0                   57750.0\n"
     ]
    }
   ],
   "source": [
    "# Pertanyaan 4:\n",
    "\n",
    "# Tampilkan DataFrame yang sudah diperbarui setelah peningkatan gaji tambahan dan berikan ringkasan hasilnya.\n",
    "print('')\n",
    "print(\"Data evaluasi bonus karyawan yang usia di atas 30 tahun. :\\n\")\n",
    "print(df)"
   ]
  },
  {
   "cell_type": "code",
   "execution_count": 6,
   "metadata": {},
   "outputs": [],
   "source": [
    "\n",
    "# ---------------------------- #\n",
    "# Buat Branch Baru pada repository github berikut dengan format KELAS_NRP_NAMA\n",
    "# https://gitlab.com/itenas/tugas_pemdas.git\n",
    "# ---------------------------- #\n",
    "\n",
    "# Catatan:\n",
    "# Gunakan loop for dan fungsi lambda untuk mengimplementasikan operasi yang diminta.\n",
    "# Pastikan untuk menyimpan hasil perubahan pada DataFrame.\n",
    "# Tampilkan hasil dan ringkasan dengan jelas.\n",
    "# Jangan lupa untuk menyesuaikan persentase peningkatan gaji sesuai dengan cerita.\n"
   ]
  }
 ],
 "metadata": {
  "kernelspec": {
   "display_name": "Python 3",
   "language": "python",
   "name": "python3"
  },
  "language_info": {
   "codemirror_mode": {
    "name": "ipython",
    "version": 3
   },
   "file_extension": ".py",
   "mimetype": "text/x-python",
   "name": "python",
   "nbconvert_exporter": "python",
   "pygments_lexer": "ipython3",
   "version": "3.11.5"
  }
 },
 "nbformat": 4,
 "nbformat_minor": 2
}
